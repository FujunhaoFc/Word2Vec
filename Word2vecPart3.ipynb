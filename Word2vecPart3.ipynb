{
  "nbformat": 4,
  "nbformat_minor": 0,
  "metadata": {
    "colab": {
      "provenance": [],
      "authorship_tag": "ABX9TyPWiquhjUt6lPlrLZwHVJbQ",
      "include_colab_link": true
    },
    "kernelspec": {
      "name": "python3",
      "display_name": "Python 3"
    },
    "language_info": {
      "name": "python"
    }
  },
  "cells": [
    {
      "cell_type": "markdown",
      "metadata": {
        "id": "view-in-github",
        "colab_type": "text"
      },
      "source": [
        "<a href=\"https://colab.research.google.com/github/FujunhaoFc/Word2Vec/blob/main/Word2vecPart3.ipynb\" target=\"_parent\"><img src=\"https://colab.research.google.com/assets/colab-badge.svg\" alt=\"Open In Colab\"/></a>"
      ]
    },
    {
      "cell_type": "markdown",
      "source": [
        "# Part 3 More Fun with Word Vectors"
      ],
      "metadata": {
        "id": "JTNxpLPQJB_9"
      }
    },
    {
      "cell_type": "code",
      "source": [
        "import pandas as pd\n",
        "import numpy as np\n",
        "\n",
        "from gensim.models import Word2Vec\n",
        "model = Word2Vec.load(\"300features_40minwords_10context\")"
      ],
      "metadata": {
        "id": "wLzY5EzJu0AS"
      },
      "execution_count": 1,
      "outputs": []
    },
    {
      "cell_type": "code",
      "source": [
        "type(model.wv.vectors)"
      ],
      "metadata": {
        "colab": {
          "base_uri": "https://localhost:8080/"
        },
        "id": "wLVr53i71K2g",
        "outputId": "07756442-4e4e-41fb-cf9b-6b9be03c25fe"
      },
      "execution_count": 6,
      "outputs": [
        {
          "output_type": "execute_result",
          "data": {
            "text/plain": [
              "numpy.ndarray"
            ]
          },
          "metadata": {},
          "execution_count": 6
        }
      ]
    },
    {
      "cell_type": "code",
      "source": [
        "model.wv.vectors.shape"
      ],
      "metadata": {
        "colab": {
          "base_uri": "https://localhost:8080/"
        },
        "id": "5tRX9qiH1K4u",
        "outputId": "de6063a8-2f3d-473e-9bcb-0cc349f9d17b"
      },
      "execution_count": 7,
      "outputs": [
        {
          "output_type": "execute_result",
          "data": {
            "text/plain": [
              "(8630, 300)"
            ]
          },
          "metadata": {},
          "execution_count": 7
        }
      ]
    },
    {
      "cell_type": "code",
      "source": [
        "def makeFeatureVec(words, model, num_features):\n",
        "    # Function to average all of the word vectors in a given\n",
        "    # paragraph\n",
        "    #\n",
        "    # Pre-initialize an empty numpy array (for speed)\n",
        "    featureVec = np.zeros((num_features,),dtype=\"float32\")\n",
        "    #\n",
        "    nwords = 0.\n",
        "    #\n",
        "    # Index2word is a list that contains the names of the words in\n",
        "    # the model's vocabulary. Convert it to a set, for speed\n",
        "    index2word_set = set(model.wv.index_to_key)\n",
        "    #\n",
        "    # Loop over each word in the review and, if it is in the model's\n",
        "    # vocaublary, add its feature vector to the total\n",
        "    for word in words:\n",
        "        if word in index2word_set:\n",
        "            nwords = nwords + 1.\n",
        "            featureVec = np.add(featureVec,model.wv[word])\n",
        "    #\n",
        "    # Divide the result by the number of words to get the average\n",
        "    featureVec = np.divide(featureVec,nwords)\n",
        "    return featureVec\n",
        "\n",
        "\n",
        "def getAvgFeatureVecs(reviews, model, num_features):\n",
        "    # Given a set of reviews (each one a list of words), calculate\n",
        "    # the average feature vector for each one and return a 2D numpy array\n",
        "\n",
        "    #\n",
        "    # Preallocate a 2D numpy array, for speed\n",
        "    reviewFeatureVecs = np.zeros((len(reviews),num_features),dtype=\"float32\")\n",
        "    #\n",
        "    # Loop through the reviews\n",
        "    for i, review in enumerate(reviews):\n",
        "       #\n",
        "       # Print status message\n",
        "       if i % 1000 == 0:\n",
        "           print(\"Review %d of %d\" % (i, len(reviews)))\n",
        "       #\n",
        "       # Use the integer index 'i'\n",
        "       reviewFeatureVecs[i] = makeFeatureVec(review, model, num_features)\n",
        "\n",
        "    return reviewFeatureVecs"
      ],
      "metadata": {
        "id": "KKzXsTj81K7U"
      },
      "execution_count": 35,
      "outputs": []
    },
    {
      "cell_type": "code",
      "source": [
        "train = pd.read_csv( \"word2vec/labeledTrainData.tsv\", header=0, delimiter=\"\\t\", quoting=3 )\n",
        "test = pd.read_csv( \"word2vec/testData.tsv\", header=0, delimiter=\"\\t\", quoting=3 )\n",
        "unlabeled_train = pd.read_csv( \"word2vec/unlabeledTrainData.tsv\", header=0, delimiter=\"\\t\", quoting=3 )"
      ],
      "metadata": {
        "id": "r3DjnPu71K9z"
      },
      "execution_count": 36,
      "outputs": []
    },
    {
      "cell_type": "code",
      "source": [
        "from bs4 import BeautifulSoup\n",
        "import re\n",
        "from nltk.corpus import stopwords"
      ],
      "metadata": {
        "id": "4sMI4KcB6sar"
      },
      "execution_count": 37,
      "outputs": []
    },
    {
      "cell_type": "code",
      "source": [
        "\n",
        "def review_to_wordlist( review, remove_stopwords=False ):\n",
        "    # Function to convert a document to a sequence of words,\n",
        "    # optionally removing stop words.  Returns a list of words.\n",
        "    #\n",
        "    # 1. Remove HTML\n",
        "    review_text = BeautifulSoup(review).get_text()\n",
        "    #\n",
        "    # 2. Remove non-letters\n",
        "    review_text = re.sub(\"[^a-zA-Z]\",\" \", review_text)\n",
        "    #\n",
        "    # 3. Convert words to lower case and split them\n",
        "    words = review_text.lower().split()\n",
        "    #\n",
        "    # 4. Optionally remove stop words (false by default)\n",
        "    if remove_stopwords:\n",
        "        stops = set(stopwords.words(\"english\"))\n",
        "        words = [w for w in words if not w in stops]\n",
        "    #\n",
        "    # 5. Return a list of words\n",
        "    return(words)"
      ],
      "metadata": {
        "id": "iK6Q-8Ml6v98"
      },
      "execution_count": 38,
      "outputs": []
    },
    {
      "cell_type": "code",
      "source": [
        "# Set values for various parameters\n",
        "num_features = 300    # Word vector dimensionality\n",
        "min_word_count = 40   # Minimum word count\n",
        "num_workers = 4       # Number of threads to run in parallel\n",
        "context = 10          # Context window size\n",
        "downsampling = 1e-3   # Downsample setting for frequent words"
      ],
      "metadata": {
        "id": "zUT7bcHt6z_h"
      },
      "execution_count": 39,
      "outputs": []
    },
    {
      "cell_type": "code",
      "source": [
        "# ****************************************************************\n",
        "# Calculate average feature vectors for training and testing sets,\n",
        "# using the functions we defined above. Notice that we now use stop word\n",
        "# removal.\n",
        "\n",
        "clean_train_reviews = []\n",
        "for review in train[\"review\"]:\n",
        "    clean_train_reviews.append( review_to_wordlist( review, remove_stopwords=True ))\n",
        "\n",
        "trainDataVecs = getAvgFeatureVecs( clean_train_reviews, model, num_features )\n",
        "\n",
        "print (\"Creating average feature vecs for test reviews\")\n",
        "clean_test_reviews = []\n",
        "for review in test[\"review\"]:\n",
        "    clean_test_reviews.append( review_to_wordlist( review, remove_stopwords=True ))\n",
        "\n",
        "testDataVecs = getAvgFeatureVecs( clean_test_reviews, model, num_features )"
      ],
      "metadata": {
        "colab": {
          "base_uri": "https://localhost:8080/"
        },
        "id": "RsIdkm8w6-Ub",
        "outputId": "769cec4a-dee1-4181-9230-ca557cf1b51f"
      },
      "execution_count": 40,
      "outputs": [
        {
          "output_type": "stream",
          "name": "stdout",
          "text": [
            "Review 0 of 12389\n",
            "Review 1000 of 12389\n",
            "Review 2000 of 12389\n",
            "Review 3000 of 12389\n",
            "Review 4000 of 12389\n",
            "Review 5000 of 12389\n",
            "Review 6000 of 12389\n",
            "Review 7000 of 12389\n",
            "Review 8000 of 12389\n",
            "Review 9000 of 12389\n",
            "Review 10000 of 12389\n",
            "Review 11000 of 12389\n",
            "Review 12000 of 12389\n",
            "Creating average feature vecs for test reviews\n",
            "Review 0 of 14451\n",
            "Review 1000 of 14451\n",
            "Review 2000 of 14451\n",
            "Review 3000 of 14451\n",
            "Review 4000 of 14451\n",
            "Review 5000 of 14451\n",
            "Review 6000 of 14451\n",
            "Review 7000 of 14451\n",
            "Review 8000 of 14451\n",
            "Review 9000 of 14451\n",
            "Review 10000 of 14451\n",
            "Review 11000 of 14451\n",
            "Review 12000 of 14451\n",
            "Review 13000 of 14451\n",
            "Review 14000 of 14451\n"
          ]
        }
      ]
    },
    {
      "cell_type": "code",
      "source": [
        "# Fit a random forest to the training data, using 100 trees\n",
        "from sklearn.ensemble import RandomForestClassifier\n",
        "forest = RandomForestClassifier( n_estimators = 100 )\n",
        "\n",
        "print (\"Fitting a random forest to labeled training data...\")\n",
        "forest = forest.fit( trainDataVecs, train[\"sentiment\"] )\n",
        "\n",
        "# Test & extract results\n",
        "result = forest.predict( testDataVecs )\n",
        "\n",
        "# Write the test results\n",
        "output = pd.DataFrame( data={\"id\":test[\"id\"], \"sentiment\":result} )\n",
        "output.to_csv( \"Word2Vec_AverageVectors.csv\", index=False, quoting=3 )"
      ],
      "metadata": {
        "colab": {
          "base_uri": "https://localhost:8080/"
        },
        "id": "pBjwFLmT7plk",
        "outputId": "4de772ea-c9c2-4784-a265-2b5718b7a621"
      },
      "execution_count": 42,
      "outputs": [
        {
          "output_type": "stream",
          "name": "stdout",
          "text": [
            "Fitting a random forest to labeled training data...\n"
          ]
        }
      ]
    },
    {
      "cell_type": "code",
      "source": [
        "from sklearn.cluster import KMeans\n",
        "import time\n",
        "\n",
        "start = time.time() # Start time\n",
        "\n",
        "# Set \"k\" (num_clusters) to be 1/5th of the vocabulary size, or an\n",
        "# average of 5 words per cluster\n",
        "word_vectors = model.wv.vectors\n",
        "num_clusters = int(word_vectors.shape[0] / 5)\n",
        "\n",
        "# Initalize a k-means object and use it to extract centroids\n",
        "kmeans_clustering = KMeans( n_clusters = num_clusters )\n",
        "idx = kmeans_clustering.fit_predict( word_vectors )\n",
        "\n",
        "# Get the end time and print how long the process took\n",
        "end = time.time()\n",
        "elapsed = end - start\n",
        "print(\"Time taken for K Means clustering: \", elapsed, \"seconds.\")"
      ],
      "metadata": {
        "colab": {
          "base_uri": "https://localhost:8080/"
        },
        "id": "gdAv9CXBDT_P",
        "outputId": "84d885fe-136e-4eeb-e95e-ff9014bf1618"
      },
      "execution_count": 46,
      "outputs": [
        {
          "output_type": "stream",
          "name": "stdout",
          "text": [
            "Time taken for K Means clustering:  29.358959436416626 seconds.\n"
          ]
        }
      ]
    },
    {
      "cell_type": "code",
      "source": [
        "# Create a Word / Index dictionary, mapping each vocabulary word to\n",
        "# a cluster number\n",
        "word_centroid_map = dict(zip( model.wv.index_to_key, idx ))"
      ],
      "metadata": {
        "id": "3sCbyM3CEypR"
      },
      "execution_count": 47,
      "outputs": []
    },
    {
      "cell_type": "code",
      "source": [
        "for cluster in range(0,10):\n",
        "    #\n",
        "    # Print the cluster number\n",
        "    print (\"\\nCluster %d\" % cluster)\n",
        "    #\n",
        "    # Find all of the words for that cluster number, and print them out\n",
        "    words = []\n",
        "    for i in range(0,len(word_centroid_map.values())):\n",
        "        if( list(word_centroid_map.values())[i] == cluster ):\n",
        "            words.append(list(word_centroid_map.keys())[i])\n",
        "    print (words)"
      ],
      "metadata": {
        "colab": {
          "base_uri": "https://localhost:8080/"
        },
        "id": "i3P4s7WXFtYY",
        "outputId": "a160ce0a-44f2-4bbc-c67e-cd03c619ec17"
      },
      "execution_count": 49,
      "outputs": [
        {
          "output_type": "stream",
          "name": "stdout",
          "text": [
            "\n",
            "Cluster 0\n",
            "['aiming', 'aims']\n",
            "\n",
            "Cluster 1\n",
            "['lou', 'jenny', 'sharon', 'richards', 'burke', 'ma', 'kathleen', 'gina', 'bennett', 'drake', 'angie', 'peters', 'carlos', 'stacy', 'scarlet', 'shannon', 'dunn', 'piper', 'josie', 'shrink', 'tina', 'kristofferson', 'connie']\n",
            "\n",
            "Cluster 2\n",
            "['yawn', 'shoe', 'sweat', 'mobile', 'jigsaw']\n",
            "\n",
            "Cluster 3\n",
            "['london', 'paris', 'mexico', 'california', 'san', 'los', 'university', 'angeles', 'chicago', 'francisco', 'vegas', 'brooklyn', 'florida', 'berlin', 'nyc', 'records', 'northern', 'rome', 'ny', 'boston', 'kansas', 'arizona', 'madrid', 'port']\n",
            "\n",
            "Cluster 4\n",
            "['done', 'developed', 'executed', 'handled', 'constructed']\n",
            "\n",
            "Cluster 5\n",
            "['emotional', 'depth', 'emotion', 'genuine', 'credibility', 'intensity', 'dignity', 'warmth', 'complexity', 'pathos', 'sincerity', 'sensitivity', 'seriousness', 'nuances', 'maturity', 'flavor', 'vulnerability', 'sophistication', 'sweetness']\n",
            "\n",
            "Cluster 6\n",
            "['inducing']\n",
            "\n",
            "Cluster 7\n",
            "['ominous', 'electronic']\n",
            "\n",
            "Cluster 8\n",
            "['help', 'hurt', 'allow', 'sell', 'convince', 'fool', 'desperately', 'teach', 'impress', 'haunt']\n",
            "\n",
            "Cluster 9\n",
            "['remarkable', 'marvelous', 'perfection', 'flawless', 'directorial', 'splendid', 'masterful', 'phenomenal', 'lackluster', 'astounding', 'assured', 'lean', 'sensational', 'finely']\n"
          ]
        }
      ]
    },
    {
      "cell_type": "code",
      "source": [
        "def create_bag_of_centroids( wordlist, word_centroid_map ):\n",
        "    #\n",
        "    # The number of clusters is equal to the highest cluster index\n",
        "    # in the word / centroid map\n",
        "    num_centroids = max( word_centroid_map.values() ) + 1\n",
        "    #\n",
        "    # Pre-allocate the bag of centroids vector (for speed)\n",
        "    bag_of_centroids = np.zeros( num_centroids, dtype=\"float32\" )\n",
        "    #\n",
        "    # Loop over the words in the review. If the word is in the vocabulary,\n",
        "    # find which cluster it belongs to, and increment that cluster count\n",
        "    # by one\n",
        "    for word in wordlist:\n",
        "        if word in word_centroid_map:\n",
        "            index = word_centroid_map[word]\n",
        "            bag_of_centroids[index] += 1\n",
        "    #\n",
        "    # Return the \"bag of centroids\"\n",
        "    return bag_of_centroids"
      ],
      "metadata": {
        "id": "OsFdJQ6BF03U"
      },
      "execution_count": 50,
      "outputs": []
    },
    {
      "cell_type": "code",
      "source": [
        "# Pre-allocate an array for the training set bags of centroids (for speed)\n",
        "train_centroids = np.zeros( (train[\"review\"].size, num_clusters), \\\n",
        "    dtype=\"float32\" )\n",
        "\n",
        "# Transform the training set reviews into bags of centroids\n",
        "counter = 0\n",
        "for review in clean_train_reviews:\n",
        "    train_centroids[counter] = create_bag_of_centroids( review, \\\n",
        "        word_centroid_map )\n",
        "    counter += 1\n",
        "\n",
        "# Repeat for test reviews\n",
        "test_centroids = np.zeros(( test[\"review\"].size, num_clusters), \\\n",
        "    dtype=\"float32\" )\n",
        "\n",
        "counter = 0\n",
        "for review in clean_test_reviews:\n",
        "    test_centroids[counter] = create_bag_of_centroids( review, \\\n",
        "        word_centroid_map )\n",
        "    counter += 1"
      ],
      "metadata": {
        "id": "GvoYQJmaIof9"
      },
      "execution_count": 53,
      "outputs": []
    },
    {
      "cell_type": "code",
      "source": [
        "# Fit a random forest and extract predictions\n",
        "forest = RandomForestClassifier(n_estimators = 100)\n",
        "\n",
        "# Fitting the forest may take a few minutes\n",
        "print (\"Fitting a random forest to labeled training data...\")\n",
        "forest = forest.fit(train_centroids,train[\"sentiment\"])\n",
        "result = forest.predict(test_centroids)\n",
        "\n",
        "# Write the test results\n",
        "output = pd.DataFrame(data={\"id\":test[\"id\"], \"sentiment\":result})\n",
        "output.to_csv( \"BagOfCentroids.csv\", index=False, quoting=3 )"
      ],
      "metadata": {
        "colab": {
          "base_uri": "https://localhost:8080/"
        },
        "id": "QnPrAEF7HQcb",
        "outputId": "5eb53374-2127-4d8a-e23d-d403c72153d3"
      },
      "execution_count": 54,
      "outputs": [
        {
          "output_type": "stream",
          "name": "stdout",
          "text": [
            "Fitting a random forest to labeled training data...\n"
          ]
        }
      ]
    },
    {
      "cell_type": "code",
      "source": [],
      "metadata": {
        "id": "hcaM-ME6IfOD"
      },
      "execution_count": null,
      "outputs": []
    }
  ]
}